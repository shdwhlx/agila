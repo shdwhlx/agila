{
 "cells": [
  {
   "cell_type": "code",
   "execution_count": null,
   "metadata": {},
   "outputs": [],
   "source": [
    "!pip install pandas\n",
    "!pip install scikit-learn\n",
    "!pip install seaborn"
   ]
  },
  {
   "cell_type": "markdown",
   "metadata": {},
   "source": [
    "## Dependecies"
   ]
  },
  {
   "cell_type": "code",
   "execution_count": 1,
   "metadata": {},
   "outputs": [
    {
     "name": "stderr",
     "output_type": "stream",
     "text": [
      "Matplotlib created a temporary config/cache directory at /tmp/matplotlib-dqybi2_p because the default path (/.config/matplotlib) is not a writable directory; it is highly recommended to set the MPLCONFIGDIR environment variable to a writable directory, in particular to speed up the import of Matplotlib and to better support multiprocessing.\n"
     ]
    }
   ],
   "source": [
    "import os\n",
    "import re\n",
    "import requests\n",
    "import string\n",
    "import pandas as pd\n",
    "import matplotlib.pyplot as plt\n",
    "import seaborn as sns\n",
    "import tensorflow as tf\n",
    "from tensorflow.keras import layers\n",
    "from tensorflow.keras import losses\n",
    "from sklearn.model_selection import train_test_split\n",
    "\n",
    "# set the data directory\n",
    "data_dir = os.path.abspath(os.path.join(os.getcwd(),\"..\",\"data\"))\n",
    "\n",
    "# configure DataFrame display\n",
    "pd.set_option(\"max_colwidth\", 100)"
   ]
  },
  {
   "cell_type": "markdown",
   "metadata": {},
   "source": [
    "## Hyperparameters"
   ]
  },
  {
   "cell_type": "code",
   "execution_count": 2,
   "metadata": {},
   "outputs": [],
   "source": [
    "# output directory name:\n",
    "output_dir = \"model_output/dense\"\n",
    "\n",
    "# Values for train_test_split\n",
    "TRAIN_SIZE = 0.8\n",
    "TEST_SIZE = 1 - TRAIN_SIZE\n",
    "SEED = 2408\n",
    "\n",
    "# Values for TextVectorization\n",
    "VOCAB_SIZE = 20000     # Only considers top 5k words\n",
    "MAX_LEN = 50           # Maximum review (text) size in words\n",
    "NGRAMS = 2\n",
    "\n",
    "# Batching and Optimization parameters\n",
    "BATCH_SIZE = 64\n",
    "AUTOTUNE = tf.data.experimental.AUTOTUNE\n",
    "\n",
    "# neural network architecture:\n",
    "EMBEDDING_DIM = 64\n",
    "\n",
    "# training:\n",
    "EPOCHS = 10"
   ]
  },
  {
   "cell_type": "markdown",
   "metadata": {},
   "source": [
    "## 1. Download and Load the Data"
   ]
  },
  {
   "cell_type": "code",
   "execution_count": 3,
   "metadata": {},
   "outputs": [],
   "source": [
    "def download(url: str, dest_folder: str):\n",
    "    if not os.path.exists(dest_folder):\n",
    "        os.makedirs(dest_folder)  # create folder if it does not exist\n",
    "\n",
    "    filename = url.split('/')[-1].replace(\" \", \"_\")  # be careful with file names\n",
    "    file_path = os.path.join(dest_folder, filename)\n",
    "\n",
    "    r = requests.get(url, stream=True)\n",
    "    if r.ok:\n",
    "        print(\"saving to\", os.path.abspath(file_path))\n",
    "        with open(file_path, 'wb') as f:\n",
    "            for chunk in r.iter_content(chunk_size=1024 * 8):\n",
    "                if chunk:\n",
    "                    f.write(chunk)\n",
    "                    f.flush()\n",
    "                    os.fsync(f.fileno())\n",
    "    else:  # HTTP status code 4XX/5XX\n",
    "        print(\"Download failed: status code {}\\n{}\".format(r.status_code, r.text))\n",
    "    return filename"
   ]
  },
  {
   "cell_type": "code",
   "execution_count": 4,
   "metadata": {},
   "outputs": [
    {
     "name": "stdout",
     "output_type": "stream",
     "text": [
      "saving to /tf/data/olist_order_reviews_dataset.csv\n"
     ]
    }
   ],
   "source": [
    "URL = \"https://bucket-athena-quicksight.s3.ap-southeast-1.amazonaws.com/oltp/olist_order_reviews_dataset.csv\"\n",
    "csv = download(URL, data_dir)"
   ]
  },
  {
   "cell_type": "code",
   "execution_count": 5,
   "metadata": {},
   "outputs": [],
   "source": [
    "reviews = pd.read_csv(f'{data_dir}/{csv}')"
   ]
  },
  {
   "cell_type": "markdown",
   "metadata": {},
   "source": [
    "## 2. Explore the Data"
   ]
  },
  {
   "cell_type": "code",
   "execution_count": 6,
   "metadata": {
    "scrolled": true
   },
   "outputs": [
    {
     "name": "stdout",
     "output_type": "stream",
     "text": [
      "<class 'pandas.core.frame.DataFrame'>\n",
      "RangeIndex: 99224 entries, 0 to 99223\n",
      "Data columns (total 7 columns):\n",
      " #   Column                   Non-Null Count  Dtype \n",
      "---  ------                   --------------  ----- \n",
      " 0   review_id                99224 non-null  object\n",
      " 1   order_id                 99224 non-null  object\n",
      " 2   review_score             99224 non-null  int64 \n",
      " 3   review_comment_title     11568 non-null  object\n",
      " 4   review_comment_message   40977 non-null  object\n",
      " 5   review_creation_date     99224 non-null  object\n",
      " 6   review_answer_timestamp  99224 non-null  object\n",
      "dtypes: int64(1), object(6)\n",
      "memory usage: 5.3+ MB\n"
     ]
    }
   ],
   "source": [
    "reviews.info()"
   ]
  },
  {
   "cell_type": "code",
   "execution_count": 7,
   "metadata": {
    "scrolled": true
   },
   "outputs": [
    {
     "data": {
      "text/html": [
       "<div>\n",
       "<style scoped>\n",
       "    .dataframe tbody tr th:only-of-type {\n",
       "        vertical-align: middle;\n",
       "    }\n",
       "\n",
       "    .dataframe tbody tr th {\n",
       "        vertical-align: top;\n",
       "    }\n",
       "\n",
       "    .dataframe thead th {\n",
       "        text-align: right;\n",
       "    }\n",
       "</style>\n",
       "<table border=\"1\" class=\"dataframe\">\n",
       "  <thead>\n",
       "    <tr style=\"text-align: right;\">\n",
       "      <th></th>\n",
       "      <th>review_id</th>\n",
       "      <th>order_id</th>\n",
       "      <th>review_score</th>\n",
       "      <th>review_comment_title</th>\n",
       "      <th>review_comment_message</th>\n",
       "      <th>review_creation_date</th>\n",
       "      <th>review_answer_timestamp</th>\n",
       "    </tr>\n",
       "  </thead>\n",
       "  <tbody>\n",
       "    <tr>\n",
       "      <th>0</th>\n",
       "      <td>7bc2406110b926393aa56f80a40eba40</td>\n",
       "      <td>73fc7af87114b39712e6da79b0a377eb</td>\n",
       "      <td>4</td>\n",
       "      <td>NaN</td>\n",
       "      <td>NaN</td>\n",
       "      <td>2018-01-18 00:00:00</td>\n",
       "      <td>2018-01-18 21:46:59</td>\n",
       "    </tr>\n",
       "    <tr>\n",
       "      <th>1</th>\n",
       "      <td>80e641a11e56f04c1ad469d5645fdfde</td>\n",
       "      <td>a548910a1c6147796b98fdf73dbeba33</td>\n",
       "      <td>5</td>\n",
       "      <td>NaN</td>\n",
       "      <td>NaN</td>\n",
       "      <td>2018-03-10 00:00:00</td>\n",
       "      <td>2018-03-11 03:05:13</td>\n",
       "    </tr>\n",
       "    <tr>\n",
       "      <th>2</th>\n",
       "      <td>228ce5500dc1d8e020d8d1322874b6f0</td>\n",
       "      <td>f9e4b658b201a9f2ecdecbb34bed034b</td>\n",
       "      <td>5</td>\n",
       "      <td>NaN</td>\n",
       "      <td>NaN</td>\n",
       "      <td>2018-02-17 00:00:00</td>\n",
       "      <td>2018-02-18 14:36:24</td>\n",
       "    </tr>\n",
       "    <tr>\n",
       "      <th>3</th>\n",
       "      <td>e64fb393e7b32834bb789ff8bb30750e</td>\n",
       "      <td>658677c97b385a9be170737859d3511b</td>\n",
       "      <td>5</td>\n",
       "      <td>NaN</td>\n",
       "      <td>Recebi bem antes do prazo estipulado.</td>\n",
       "      <td>2017-04-21 00:00:00</td>\n",
       "      <td>2017-04-21 22:02:06</td>\n",
       "    </tr>\n",
       "    <tr>\n",
       "      <th>4</th>\n",
       "      <td>f7c4243c7fe1938f181bec41a392bdeb</td>\n",
       "      <td>8e6bfb81e283fa7e4f11123a3fb894f1</td>\n",
       "      <td>5</td>\n",
       "      <td>NaN</td>\n",
       "      <td>Parabéns lojas lannister adorei comprar pela Internet seguro e prático Parabéns a todos feliz Pá...</td>\n",
       "      <td>2018-03-01 00:00:00</td>\n",
       "      <td>2018-03-02 10:26:53</td>\n",
       "    </tr>\n",
       "  </tbody>\n",
       "</table>\n",
       "</div>"
      ],
      "text/plain": [
       "                          review_id                          order_id  \\\n",
       "0  7bc2406110b926393aa56f80a40eba40  73fc7af87114b39712e6da79b0a377eb   \n",
       "1  80e641a11e56f04c1ad469d5645fdfde  a548910a1c6147796b98fdf73dbeba33   \n",
       "2  228ce5500dc1d8e020d8d1322874b6f0  f9e4b658b201a9f2ecdecbb34bed034b   \n",
       "3  e64fb393e7b32834bb789ff8bb30750e  658677c97b385a9be170737859d3511b   \n",
       "4  f7c4243c7fe1938f181bec41a392bdeb  8e6bfb81e283fa7e4f11123a3fb894f1   \n",
       "\n",
       "   review_score review_comment_title  \\\n",
       "0             4                  NaN   \n",
       "1             5                  NaN   \n",
       "2             5                  NaN   \n",
       "3             5                  NaN   \n",
       "4             5                  NaN   \n",
       "\n",
       "                                                                                review_comment_message  \\\n",
       "0                                                                                                  NaN   \n",
       "1                                                                                                  NaN   \n",
       "2                                                                                                  NaN   \n",
       "3                                                                Recebi bem antes do prazo estipulado.   \n",
       "4  Parabéns lojas lannister adorei comprar pela Internet seguro e prático Parabéns a todos feliz Pá...   \n",
       "\n",
       "  review_creation_date review_answer_timestamp  \n",
       "0  2018-01-18 00:00:00     2018-01-18 21:46:59  \n",
       "1  2018-03-10 00:00:00     2018-03-11 03:05:13  \n",
       "2  2018-02-17 00:00:00     2018-02-18 14:36:24  \n",
       "3  2017-04-21 00:00:00     2017-04-21 22:02:06  \n",
       "4  2018-03-01 00:00:00     2018-03-02 10:26:53  "
      ]
     },
     "execution_count": 7,
     "metadata": {},
     "output_type": "execute_result"
    }
   ],
   "source": [
    "reviews.head()"
   ]
  },
  {
   "cell_type": "code",
   "execution_count": 8,
   "metadata": {},
   "outputs": [
    {
     "data": {
      "image/png": "[encoded data removed]",
      "text/plain": [
       "<Figure size 640x480 with 1 Axes>"
      ]
     },
     "metadata": {},
     "output_type": "display_data"
    }
   ],
   "source": [
    "null_reviews = reviews.review_comment_message.isnull().value_counts()\n",
    "ax = null_reviews.plot.bar()\n",
    "for p in ax.patches:\n",
    "    ax.annotate(str(p.get_height()), (p.get_x() * 1.005 + (p.get_width()/3), p.get_height() * 1.01))\n",
    "plt.title(\"Number of Null Reviews\")\n",
    "plt.show()"
   ]
  },
  {
   "cell_type": "code",
   "execution_count": 9,
   "metadata": {},
   "outputs": [
    {
     "data": {
      "image/png": "[encoded data removed]",
      "text/plain": [
       "<Figure size 640x480 with 1 Axes>"
      ]
     },
     "metadata": {},
     "output_type": "display_data"
    }
   ],
   "source": [
    "review_no_null = reviews[reviews.review_comment_message.notnull()==True]\n",
    "review_score = review_no_null.review_score.value_counts()\n",
    "review_score.plot.pie(y=\"review_score\", autopct=\"%1.0f%%\")\n",
    "plt.title(\"Distribution of Review Scores with Comments\")\n",
    "plt.show()"
   ]
  },
  {
   "cell_type": "code",
   "execution_count": 10,
   "metadata": {},
   "outputs": [
    {
     "data": {
      "image/png": "[encoded data removed]",
      "text/plain": [
       "<Figure size 640x480 with 1 Axes>"
      ]
     },
     "metadata": {},
     "output_type": "display_data"
    }
   ],
   "source": [
    "review_no_null.review_comment_message.map(lambda x: len(x.split(\" \"))).plot.hist(bins=10)\n",
    "plt.title(\"Word Count of Reviews\")\n",
    "plt.show()"
   ]
  },
  {
   "cell_type": "markdown",
   "metadata": {},
   "source": [
    "## 3. Preprocessing Data"
   ]
  },
  {
   "cell_type": "markdown",
   "metadata": {},
   "source": [
    "### 3.1 Remove Missing Reviews"
   ]
  },
  {
   "cell_type": "code",
   "execution_count": 11,
   "metadata": {
    "scrolled": false
   },
   "outputs": [
    {
     "data": {
      "text/html": [
       "<div>\n",
       "<style scoped>\n",
       "    .dataframe tbody tr th:only-of-type {\n",
       "        vertical-align: middle;\n",
       "    }\n",
       "\n",
       "    .dataframe tbody tr th {\n",
       "        vertical-align: top;\n",
       "    }\n",
       "\n",
       "    .dataframe thead th {\n",
       "        text-align: right;\n",
       "    }\n",
       "</style>\n",
       "<table border=\"1\" class=\"dataframe\">\n",
       "  <thead>\n",
       "    <tr style=\"text-align: right;\">\n",
       "      <th></th>\n",
       "      <th>review_comment_message</th>\n",
       "      <th>review_score</th>\n",
       "    </tr>\n",
       "  </thead>\n",
       "  <tbody>\n",
       "    <tr>\n",
       "      <th>0</th>\n",
       "      <td>Recebi bem antes do prazo estipulado.</td>\n",
       "      <td>5</td>\n",
       "    </tr>\n",
       "    <tr>\n",
       "      <th>1</th>\n",
       "      <td>Parabéns lojas lannister adorei comprar pela Internet seguro e prático Parabéns a todos feliz Pá...</td>\n",
       "      <td>5</td>\n",
       "    </tr>\n",
       "    <tr>\n",
       "      <th>2</th>\n",
       "      <td>aparelho eficiente. no site a marca do aparelho esta impresso como 3desinfector e ao chegar esta...</td>\n",
       "      <td>4</td>\n",
       "    </tr>\n",
       "    <tr>\n",
       "      <th>3</th>\n",
       "      <td>Mas um pouco ,travando...pelo valor ta Boa.\\r\\n</td>\n",
       "      <td>4</td>\n",
       "    </tr>\n",
       "    <tr>\n",
       "      <th>4</th>\n",
       "      <td>Vendedor confiável, produto ok e entrega antes do prazo.</td>\n",
       "      <td>5</td>\n",
       "    </tr>\n",
       "    <tr>\n",
       "      <th>...</th>\n",
       "      <td>...</td>\n",
       "      <td>...</td>\n",
       "    </tr>\n",
       "    <tr>\n",
       "      <th>40972</th>\n",
       "      <td>para este produto recebi de acordo com a compra realizada!</td>\n",
       "      <td>4</td>\n",
       "    </tr>\n",
       "    <tr>\n",
       "      <th>40973</th>\n",
       "      <td>Entregou dentro do prazo. O produto chegou em condições perfeitas. Estou muito satisfeita!</td>\n",
       "      <td>5</td>\n",
       "    </tr>\n",
       "    <tr>\n",
       "      <th>40974</th>\n",
       "      <td>O produto não foi enviado com NF, não existe venda sem NF, com certeza fico no aguardo do envio ...</td>\n",
       "      <td>3</td>\n",
       "    </tr>\n",
       "    <tr>\n",
       "      <th>40975</th>\n",
       "      <td>Excelente mochila, entrega super rápida. Super recomendo essa loja!</td>\n",
       "      <td>5</td>\n",
       "    </tr>\n",
       "    <tr>\n",
       "      <th>40976</th>\n",
       "      <td>meu produto chegou e ja tenho que devolver, pois está com defeito , não segurar carga</td>\n",
       "      <td>1</td>\n",
       "    </tr>\n",
       "  </tbody>\n",
       "</table>\n",
       "<p>40977 rows × 2 columns</p>\n",
       "</div>"
      ],
      "text/plain": [
       "                                                                                    review_comment_message  \\\n",
       "0                                                                    Recebi bem antes do prazo estipulado.   \n",
       "1      Parabéns lojas lannister adorei comprar pela Internet seguro e prático Parabéns a todos feliz Pá...   \n",
       "2      aparelho eficiente. no site a marca do aparelho esta impresso como 3desinfector e ao chegar esta...   \n",
       "3                                                          Mas um pouco ,travando...pelo valor ta Boa.\\r\\n   \n",
       "4                                                 Vendedor confiável, produto ok e entrega antes do prazo.   \n",
       "...                                                                                                    ...   \n",
       "40972                                           para este produto recebi de acordo com a compra realizada!   \n",
       "40973          Entregou dentro do prazo. O produto chegou em condições perfeitas. Estou muito satisfeita!    \n",
       "40974  O produto não foi enviado com NF, não existe venda sem NF, com certeza fico no aguardo do envio ...   \n",
       "40975                                  Excelente mochila, entrega super rápida. Super recomendo essa loja!   \n",
       "40976                meu produto chegou e ja tenho que devolver, pois está com defeito , não segurar carga   \n",
       "\n",
       "       review_score  \n",
       "0                 5  \n",
       "1                 5  \n",
       "2                 4  \n",
       "3                 4  \n",
       "4                 5  \n",
       "...             ...  \n",
       "40972             4  \n",
       "40973             5  \n",
       "40974             3  \n",
       "40975             5  \n",
       "40976             1  \n",
       "\n",
       "[40977 rows x 2 columns]"
      ]
     },
     "execution_count": 11,
     "metadata": {},
     "output_type": "execute_result"
    }
   ],
   "source": [
    "reviews = reviews.dropna(subset=\"review_comment_message\")\n",
    "reviews = reviews[[\"review_comment_message\", \"review_score\"]].reset_index(drop=True)\n",
    "reviews"
   ]
  },
  {
   "cell_type": "markdown",
   "metadata": {},
   "source": [
    "### 3.2 Transfrom DataFrame for Deep Learning"
   ]
  },
  {
   "cell_type": "code",
   "execution_count": 12,
   "metadata": {
    "scrolled": false
   },
   "outputs": [
    {
     "data": {
      "text/html": [
       "<div>\n",
       "<style scoped>\n",
       "    .dataframe tbody tr th:only-of-type {\n",
       "        vertical-align: middle;\n",
       "    }\n",
       "\n",
       "    .dataframe tbody tr th {\n",
       "        vertical-align: top;\n",
       "    }\n",
       "\n",
       "    .dataframe thead th {\n",
       "        text-align: right;\n",
       "    }\n",
       "</style>\n",
       "<table border=\"1\" class=\"dataframe\">\n",
       "  <thead>\n",
       "    <tr style=\"text-align: right;\">\n",
       "      <th></th>\n",
       "      <th>features</th>\n",
       "      <th>labels</th>\n",
       "    </tr>\n",
       "  </thead>\n",
       "  <tbody>\n",
       "    <tr>\n",
       "      <th>0</th>\n",
       "      <td>Recebi bem antes do prazo estipulado.</td>\n",
       "      <td>1</td>\n",
       "    </tr>\n",
       "    <tr>\n",
       "      <th>1</th>\n",
       "      <td>Parabéns lojas lannister adorei comprar pela Internet seguro e prático Parabéns a todos feliz Pá...</td>\n",
       "      <td>1</td>\n",
       "    </tr>\n",
       "    <tr>\n",
       "      <th>2</th>\n",
       "      <td>aparelho eficiente. no site a marca do aparelho esta impresso como 3desinfector e ao chegar esta...</td>\n",
       "      <td>0</td>\n",
       "    </tr>\n",
       "    <tr>\n",
       "      <th>3</th>\n",
       "      <td>Mas um pouco ,travando...pelo valor ta Boa.\\r\\n</td>\n",
       "      <td>0</td>\n",
       "    </tr>\n",
       "    <tr>\n",
       "      <th>4</th>\n",
       "      <td>Vendedor confiável, produto ok e entrega antes do prazo.</td>\n",
       "      <td>1</td>\n",
       "    </tr>\n",
       "    <tr>\n",
       "      <th>...</th>\n",
       "      <td>...</td>\n",
       "      <td>...</td>\n",
       "    </tr>\n",
       "    <tr>\n",
       "      <th>40972</th>\n",
       "      <td>para este produto recebi de acordo com a compra realizada!</td>\n",
       "      <td>0</td>\n",
       "    </tr>\n",
       "    <tr>\n",
       "      <th>40973</th>\n",
       "      <td>Entregou dentro do prazo. O produto chegou em condições perfeitas. Estou muito satisfeita!</td>\n",
       "      <td>1</td>\n",
       "    </tr>\n",
       "    <tr>\n",
       "      <th>40974</th>\n",
       "      <td>O produto não foi enviado com NF, não existe venda sem NF, com certeza fico no aguardo do envio ...</td>\n",
       "      <td>0</td>\n",
       "    </tr>\n",
       "    <tr>\n",
       "      <th>40975</th>\n",
       "      <td>Excelente mochila, entrega super rápida. Super recomendo essa loja!</td>\n",
       "      <td>1</td>\n",
       "    </tr>\n",
       "    <tr>\n",
       "      <th>40976</th>\n",
       "      <td>meu produto chegou e ja tenho que devolver, pois está com defeito , não segurar carga</td>\n",
       "      <td>0</td>\n",
       "    </tr>\n",
       "  </tbody>\n",
       "</table>\n",
       "<p>40977 rows × 2 columns</p>\n",
       "</div>"
      ],
      "text/plain": [
       "                                                                                                  features  \\\n",
       "0                                                                    Recebi bem antes do prazo estipulado.   \n",
       "1      Parabéns lojas lannister adorei comprar pela Internet seguro e prático Parabéns a todos feliz Pá...   \n",
       "2      aparelho eficiente. no site a marca do aparelho esta impresso como 3desinfector e ao chegar esta...   \n",
       "3                                                          Mas um pouco ,travando...pelo valor ta Boa.\\r\\n   \n",
       "4                                                 Vendedor confiável, produto ok e entrega antes do prazo.   \n",
       "...                                                                                                    ...   \n",
       "40972                                           para este produto recebi de acordo com a compra realizada!   \n",
       "40973          Entregou dentro do prazo. O produto chegou em condições perfeitas. Estou muito satisfeita!    \n",
       "40974  O produto não foi enviado com NF, não existe venda sem NF, com certeza fico no aguardo do envio ...   \n",
       "40975                                  Excelente mochila, entrega super rápida. Super recomendo essa loja!   \n",
       "40976                meu produto chegou e ja tenho que devolver, pois está com defeito , não segurar carga   \n",
       "\n",
       "       labels  \n",
       "0           1  \n",
       "1           1  \n",
       "2           0  \n",
       "3           0  \n",
       "4           1  \n",
       "...       ...  \n",
       "40972       0  \n",
       "40973       1  \n",
       "40974       0  \n",
       "40975       1  \n",
       "40976       0  \n",
       "\n",
       "[40977 rows x 2 columns]"
      ]
     },
     "execution_count": 12,
     "metadata": {},
     "output_type": "execute_result"
    }
   ],
   "source": [
    "# Creating labels that classify between a 5-star and not a 5-star review\n",
    "reviews[\"labels\"] = (reviews[\"review_score\"] == 5).astype(\"int\")\n",
    "reviews = reviews.rename(columns={\"review_comment_message\": \"features\"})\n",
    "reviews = reviews[[\"features\", \"labels\"]]\n",
    "reviews"
   ]
  },
  {
   "cell_type": "code",
   "execution_count": 13,
   "metadata": {},
   "outputs": [
    {
     "data": {
      "image/png": "[encoded data removed]",
      "text/plain": [
       "<Figure size 640x480 with 1 Axes>"
      ]
     },
     "metadata": {},
     "output_type": "display_data"
    }
   ],
   "source": [
    "review_labels = reviews.labels.value_counts()\n",
    "ax = review_labels.plot.bar()\n",
    "for p in ax.patches:\n",
    "    ax.annotate(str(p.get_height()), (p.get_x() * 1.005 + (p.get_width()/3), p.get_height() * 1.01))\n",
    "plt.title(\"Number of Labels\")\n",
    "plt.show()"
   ]
  },
  {
   "cell_type": "markdown",
   "metadata": {},
   "source": [
    "### 3.3 Split between Train and Test Data"
   ]
  },
  {
   "cell_type": "code",
   "execution_count": 14,
   "metadata": {},
   "outputs": [],
   "source": [
    "# assign variables to features and labels\n",
    "features, labels = reviews.features, reviews.labels\n",
    "\n",
    "# use sklearn to split train and test data\n",
    "train_features, test_features, train_labels, test_labels = train_test_split(\n",
    "    features, labels,\n",
    "    train_size = TRAIN_SIZE,\n",
    "    test_size = TEST_SIZE,\n",
    "    random_state = SEED,\n",
    "    shuffle = True,\n",
    "    stratify = labels\n",
    ")"
   ]
  },
  {
   "cell_type": "code",
   "execution_count": 15,
   "metadata": {
    "scrolled": true
   },
   "outputs": [
    {
     "data": {
      "text/plain": [
       "29709    O produto apresentou problema no cabo de alimentação de energia, o mesmo liga e desliga diversas...\n",
       "29744    Comprei um produto e empresa enviou outro similar e mais barato. Entrei em contato e não respond...\n",
       "21805    o produto não tem o marcador que acusa quando o filtro precisa ser trocado, somente isso, o prod...\n",
       "12775                                                  RECEBI SOMENTE 4 TONNER 78 E NAO 10 COMO FOI COMPRADO\n",
       "40913                                                             Produto ainda não chegou, estou no aguardo\n",
       "Name: features, dtype: object"
      ]
     },
     "execution_count": 15,
     "metadata": {},
     "output_type": "execute_result"
    }
   ],
   "source": [
    "train_features.head()"
   ]
  },
  {
   "cell_type": "code",
   "execution_count": 16,
   "metadata": {},
   "outputs": [
    {
     "data": {
      "text/plain": [
       "29709    0\n",
       "29744    0\n",
       "21805    0\n",
       "12775    0\n",
       "40913    0\n",
       "Name: labels, dtype: int64"
      ]
     },
     "execution_count": 16,
     "metadata": {},
     "output_type": "execute_result"
    }
   ],
   "source": [
    "train_labels.head()"
   ]
  },
  {
   "cell_type": "markdown",
   "metadata": {},
   "source": [
    "### 3.4 Convert to TensorFlow Datasets"
   ]
  },
  {
   "cell_type": "code",
   "execution_count": 17,
   "metadata": {},
   "outputs": [],
   "source": [
    "# train X & y\n",
    "X_train_raw = tf.data.Dataset.from_tensor_slices(\n",
    "    tf.cast(train_features.values, tf.string)\n",
    ")\n",
    "\n",
    "y_train_raw = tf.data.Dataset.from_tensor_slices(\n",
    "    tf.cast(train_labels.values, tf.int64)\n",
    ")\n",
    "\n",
    "# test X & y\n",
    "X_test_raw = tf.data.Dataset.from_tensor_slices(\n",
    "    tf.cast(test_features.values, tf.string)\n",
    ")\n",
    "\n",
    "y_test_raw = tf.data.Dataset.from_tensor_slices(\n",
    "    tf.cast(test_labels.values, tf.int64)\n",
    ")"
   ]
  },
  {
   "cell_type": "markdown",
   "metadata": {},
   "source": [
    "### 3.5 Apply TextVectorization"
   ]
  },
  {
   "cell_type": "markdown",
   "metadata": {},
   "source": [
    "### 3.5.1 Inspect the texts"
   ]
  },
  {
   "cell_type": "code",
   "execution_count": 18,
   "metadata": {
    "scrolled": false
   },
   "outputs": [
    {
     "name": "stdout",
     "output_type": "stream",
     "text": [
      "Number of reviews with \"\r\n",
      "\" :\n",
      "features    3852\n",
      "labels      3852\n",
      "dtype: int64\n",
      "\n",
      "Number of reviews with \"http\" :\n",
      "features    1\n",
      "labels      1\n",
      "dtype: int64\n",
      "\n",
      "Number of reviews with \"\\d\" :\n",
      "features    4117\n",
      "labels      4117\n",
      "dtype: int64\n",
      "\n",
      "Number of reviews with \"👍\" :\n",
      "features    56\n",
      "labels      56\n",
      "dtype: int64\n",
      "\n"
     ]
    }
   ],
   "source": [
    "inspect_list = [\"\\r\\n\",     # new lines\n",
    "                \"http\",     # links\n",
    "                \"\\d\",       # numerals\n",
    "                \"👍\"]       # like emoji\n",
    "\n",
    "revs = [reviews[reviews.features.str.contains(regex)].count() for regex in inspect_list]\n",
    "for index, rev in enumerate(revs):\n",
    "    print(\"Number of reviews with\", f'\"{inspect_list[index]}\"', \":\")\n",
    "    print(rev, end=\"\\n\\n\")"
   ]
  },
  {
   "cell_type": "markdown",
   "metadata": {},
   "source": [
    "### 3.5.2 Create custom standardization functions (cs)"
   ]
  },
  {
   "cell_type": "code",
   "execution_count": 19,
   "metadata": {},
   "outputs": [],
   "source": [
    "emojis = [\"👍\",\"🤔\",\"😎\",\"😃\",\"😁\",\"💖\",\"👏\",\"👌\",\"😍\",\"👎\",\"😀\",\"😡\",\"😊\",\"😉\",\"😘\",\" 🏻\",\" 🏼\", \" 🏽\", \" 🏾\"]"
   ]
  },
  {
   "cell_type": "markdown",
   "metadata": {},
   "source": [
    "__WITHOUT STOPWORDS__"
   ]
  },
  {
   "cell_type": "code",
   "execution_count": 20,
   "metadata": {},
   "outputs": [],
   "source": [
    "def cs_no_stopword(input_data):\n",
    "    no_lowercase = tf.strings.lower(input_data)\n",
    "    no_new_line = tf.strings.regex_replace(no_lowercase, \"\\r\\n\", \" \")\n",
    "    no_number = tf.strings.regex_replace(no_new_line, \"\\d\", \" \")\n",
    "    no_punctuation = tf.strings.regex_replace(no_number, f\"[{re.escape(string.punctuation)}]\", \"\")\n",
    "    \n",
    "    normal_a = tf.strings.regex_replace(no_punctuation, \"[À,Ã,Â,Á,à,ã,â,á]\", \"a\")\n",
    "    normal_e = tf.strings.regex_replace(normal_a, \"[É,Ê,é,ê]\", \"e\")\n",
    "    normal_i = tf.strings.regex_replace(normal_e, \"[Í,í]\", \"i\")\n",
    "    normal_o = tf.strings.regex_replace(normal_i, \"[Ó,Õ,Ô,ó,õ,ô]\", \"o\")\n",
    "    normal_u = tf.strings.regex_replace(normal_o, \"[Ü,ü,ú]\", \"u\")\n",
    "    normal_c = tf.strings.regex_replace(normal_u, \"[Ç,ç]\", \"c\")\n",
    "    \n",
    "    no_emoji = normal_c\n",
    "    for emoji in emojis:\n",
    "        no_emoji = tf.strings.regex_replace(no_emoji, f\"{emoji[0]}\", \" \")\n",
    "        \n",
    "    no_letters = tf.strings.regex_replace(no_emoji, \" [a-z] \", \"\")\n",
    "    no_letters = tf.strings.regex_replace(no_letters, \"^[a-z] \", \"\")\n",
    "    no_letters = tf.strings.regex_replace(no_letters, \" [a-z]$\", \"\")\n",
    "    \n",
    "    no_extra_space = tf.strings.regex_replace(no_letters, \" +\", \" \")\n",
    "    return no_extra_space"
   ]
  },
  {
   "cell_type": "markdown",
   "metadata": {},
   "source": [
    "__WITH STOPWORDS__"
   ]
  },
  {
   "cell_type": "code",
   "execution_count": 21,
   "metadata": {
    "scrolled": false
   },
   "outputs": [],
   "source": [
    "stopwords_pt = pd.read_csv(\"../stopwords/stopwords-pt.txt\", header=None)\n",
    "stopwords_pt = stopwords_pt.squeeze()\n",
    "\n",
    "stopwords_pt = stopwords_pt.map(lambda x: re.sub(r\"[à,ã,â,á]\", \"a\", x))\n",
    "stopwords_pt = stopwords_pt.map(lambda x: re.sub(r\"[é,ê]\", \"e\", x))\n",
    "stopwords_pt = stopwords_pt.map(lambda x: re.sub(r\"[í]\", \"i\", x))\n",
    "stopwords_pt = stopwords_pt.map(lambda x: re.sub(r\"[ó,õ,ô]\", \"o\", x))\n",
    "stopwords_pt = stopwords_pt.map(lambda x: re.sub(r\"[ü,ú]\", \"u\", x))\n",
    "stopwords_pt = stopwords_pt.map(lambda x: re.sub(r\"[ç]\", \"c\", x))\n",
    "stopwords_pt = stopwords_pt.to_frame()"
   ]
  },
  {
   "cell_type": "code",
   "execution_count": 22,
   "metadata": {},
   "outputs": [],
   "source": [
    "def cs_with_stopword(input_data):\n",
    "    no_lowercase = tf.strings.lower(input_data)\n",
    "    no_new_line = tf.strings.regex_replace(no_lowercase, \"\\r\\n\", \" \")\n",
    "    no_number = tf.strings.regex_replace(no_new_line, \"\\d\", \" \")\n",
    "    no_punctuation = tf.strings.regex_replace(no_number, f\"[{re.escape(string.punctuation)}]\", \"\")\n",
    "    \n",
    "    normal_a = tf.strings.regex_replace(no_punctuation, \"[À,Ã,Â,Á,à,ã,â,á]\", \"a\")\n",
    "    normal_e = tf.strings.regex_replace(normal_a, \"[É,Ê,é,ê]\", \"e\")\n",
    "    normal_i = tf.strings.regex_replace(normal_e, \"[Í,í]\", \"i\")\n",
    "    normal_o = tf.strings.regex_replace(normal_i, \"[Ó,Õ,Ô,ó,õ,ô]\", \"o\")\n",
    "    normal_u = tf.strings.regex_replace(normal_o, \"[Ü,ü,ú]\", \"u\")\n",
    "    normal_c = tf.strings.regex_replace(normal_u, \"[Ç,ç]\", \"c\")\n",
    "    \n",
    "    no_emoji = normal_c\n",
    "    for emoji in emojis:\n",
    "        no_emoji = tf.strings.regex_replace(no_emoji, f\"{emoji[0]}\", \" \")\n",
    "        \n",
    "    no_stopword = no_emoji\n",
    "    for each in stopwords_pt.values:\n",
    "        no_stopword = tf.strings.regex_replace(no_stopword, f\" {each[0]} \", \" \")\n",
    "        no_stopword = tf.strings.regex_replace(no_stopword, f\"^{each[0]} \", \"\")\n",
    "        \n",
    "    no_letters = tf.strings.regex_replace(no_stopword, \" [a-z] \", \"\")\n",
    "    no_letters = tf.strings.regex_replace(no_letters, \"^[a-z] \", \"\")\n",
    "    no_letters = tf.strings.regex_replace(no_letters, \" [a-z]$\", \"\")\n",
    "    \n",
    "    no_extra_space = tf.strings.regex_replace(no_letters, \" +\", \" \")\n",
    "    return no_extra_space"
   ]
  },
  {
   "cell_type": "markdown",
   "metadata": {},
   "source": [
    "### 3.5.3 Test the functions"
   ]
  },
  {
   "cell_type": "code",
   "execution_count": 23,
   "metadata": {},
   "outputs": [
    {
     "name": "stdout",
     "output_type": "stream",
     "text": [
      "input: Hello Par-aGRapH!\r\n",
      "  23   ... penguins, 100.50dollars x :) https://github.com/predbrad/bootcamp <3👍\n",
      "\n",
      "output: hello paragraph penguins dollars httpsgithubcompredbradbootcamp \n"
     ]
    }
   ],
   "source": [
    "input_string = \"Hello Par-aGRapH!\\r\\n  23   ... penguins, 100.50dollars x :) https://github.com/predbrad/bootcamp <3👍\"\n",
    "print(\"input:\", input_string, end=\"\\n\\n\")\n",
    "output_string = cs_no_stopword(input_string)\n",
    "print(\"output:\", output_string.numpy().decode(\"utf-8\"))"
   ]
  },
  {
   "cell_type": "code",
   "execution_count": 24,
   "metadata": {
    "scrolled": true
   },
   "outputs": [
    {
     "name": "stdout",
     "output_type": "stream",
     "text": [
      "input:\n",
      " O produto apresentou problema no cabo de alimentação de energia, o mesmo liga e desliga diversas vezes durante o uso, nem pudemos testar ele na verdade, optamos por devolvê-lo, infelizmente!\n",
      "\n",
      "output without stopwords:\n",
      " produto apresentou problema no cabo de alimentacao de energiamesmo ligadesliga diversas vezes duranteuso nem pudemos testar ele na verdade optamos por devolvelo infelizmente\n",
      "\n",
      "output with stopwords:\n",
      " produto apresentou problema cabo alimentacao energia liga desliga uso pudemos testar optamos devolvelo infelizmente\n"
     ]
    }
   ],
   "source": [
    "input_string = \"O produto apresentou problema no cabo de alimentação de energia, o mesmo liga e desliga diversas vezes durante o uso, nem pudemos testar ele na verdade, optamos por devolvê-lo, infelizmente!\"\n",
    "print(\"input:\\n\", input_string, end=\"\\n\\n\")\n",
    "output_string_1 = cs_no_stopword(input_string)\n",
    "print(\"output without stopwords:\\n\", output_string_1.numpy().decode(\"utf-8\"), end=\"\\n\\n\")\n",
    "output_string_2 = cs_with_stopword(input_string)\n",
    "print(\"output with stopwords:\\n\", output_string_2.numpy().decode(\"utf-8\"))"
   ]
  },
  {
   "cell_type": "markdown",
   "metadata": {},
   "source": [
    "### 3.5.4 Vectorize the texts"
   ]
  },
  {
   "cell_type": "code",
   "execution_count": 25,
   "metadata": {},
   "outputs": [],
   "source": [
    "vectorize_layer = layers.TextVectorization(\n",
    "    standardize=cs_with_stopword,\n",
    "    max_tokens=VOCAB_SIZE+2,     # added two tokens for padding and unknown characters\n",
    "    ngrams=NGRAMS,\n",
    "    output_mode=\"int\",\n",
    "    output_sequence_length=MAX_LEN,\n",
    ")"
   ]
  },
  {
   "cell_type": "code",
   "execution_count": 26,
   "metadata": {},
   "outputs": [],
   "source": [
    "vectorize_layer.adapt(X_train_raw)\n",
    "vocab = vectorize_layer.get_vocabulary()"
   ]
  },
  {
   "cell_type": "markdown",
   "metadata": {},
   "source": [
    "### 3.5.5 Check vectorized texts"
   ]
  },
  {
   "cell_type": "code",
   "execution_count": 27,
   "metadata": {
    "scrolled": false
   },
   "outputs": [
    {
     "name": "stdout",
     "output_type": "stream",
     "text": [
      "Vocabulary has 20002 entries\n",
      "Vocabulary has the following first 20 entries:\n",
      "0 represents the word:  \n",
      "1 represents the word:  [UNK]\n",
      "2 represents the word:  produto\n",
      "3 represents the word:  prazo\n",
      "4 represents the word:  entrega\n",
      "5 represents the word:  chegou\n",
      "6 represents the word:  recebi\n",
      "7 represents the word:  recomendo\n",
      "8 represents the word:  entregue\n",
      "9 represents the word:  veio\n",
      "10 represents the word:  qualidade\n",
      "11 represents the word:  comprei\n",
      "12 represents the word:  otimo\n",
      "13 represents the word:  loja\n",
      "14 represents the word:  compra\n",
      "15 represents the word:  chegou prazo\n",
      "16 represents the word:  recebi produto\n",
      "17 represents the word:  gostei\n",
      "18 represents the word:  produto chegou\n",
      "19 represents the word:  excelente\n"
     ]
    }
   ],
   "source": [
    "print(\"Vocabulary has\", len(vocab), \"entries\")\n",
    "print(\"Vocabulary has the following first 20 entries:\")\n",
    "for word in range(20):\n",
    "    print(word, \"represents the word: \", vocab[word])"
   ]
  },
  {
   "cell_type": "code",
   "execution_count": 28,
   "metadata": {},
   "outputs": [
    {
     "name": "stdout",
     "output_type": "stream",
     "text": [
      "Given raw data: \n",
      "O produto apresentou problema no cabo de alimentação de energia, o mesmo liga e desliga diversas vezes durante o uso, nem pudemos testar ele na verdade, optamos por devolvê-lo, infelizmente!\n",
      "\n",
      "Tokenized and Transformed to a vector of integers: \n",
      "tf.Tensor(\n",
      "[[    2  1410    53   387 10602  2127   977  7148   231     1   596     1\n",
      "   2943   215  3861  7523 12928 10394 18761     1     1     1     1     1\n",
      "      1     1     1     0     0     0     0     0     0     0     0     0\n",
      "      0     0     0     0     0     0     0     0     0     0     0     0\n",
      "      0     0]], shape=(1, 50), dtype=int64)\n",
      "\n",
      "Text after Tokenized and Transformed: \n",
      " produto apresentou problema cabo alimentacao energia liga desliga uso [UNK] testar [UNK] devolvelo infelizmente produto apresentou apresentou problema problema cabo cabo alimentacao alimentacao energia [UNK] [UNK] [UNK] [UNK] [UNK] [UNK] [UNK] [UNK]                       \n",
      "\n",
      "Given raw data: \n",
      "Comprei um produto e empresa enviou outro similar e mais barato. Entrei em contato e não responderam nada sobre a divergência.\n",
      "\n",
      "Tokenized and Transformed to a vector of integers: \n",
      "tf.Tensor(\n",
      "[[  11    2   68  550 1305  543  338   61 1173 3593  145 2210 4058    1\n",
      "     1    1  405    1    1    0    0    0    0    0    0    0    0    0\n",
      "     0    0    0    0    0    0    0    0    0    0    0    0    0    0\n",
      "     0    0    0    0    0    0    0    0]], shape=(1, 50), dtype=int64)\n",
      "\n",
      "Text after Tokenized and Transformed: \n",
      " comprei produto empresa enviou similar barato entrei contato responderam divergencia comprei produto produto empresa empresa enviou [UNK] [UNK] [UNK] entrei contato [UNK] [UNK]                               \n",
      "\n"
     ]
    }
   ],
   "source": [
    "for X in train_features.iloc[:2]:\n",
    "    print(\"Given raw data: \")\n",
    "    print(X, end=\"\\n\\n\")\n",
    "    \n",
    "    tokenized = vectorize_layer(tf.expand_dims(X, -1))\n",
    "    print(\"Tokenized and Transformed to a vector of integers: \")\n",
    "    print(tokenized, end=\"\\n\\n\")\n",
    "    \n",
    "    print(\"Text after Tokenized and Transformed: \")\n",
    "    transformed = \"\"\n",
    "    for each in tf.squeeze(tokenized):\n",
    "        transformed = transformed + \" \" + vocab[each]\n",
    "    print(transformed, end=\"\\n\\n\")"
   ]
  },
  {
   "cell_type": "code",
   "execution_count": 29,
   "metadata": {},
   "outputs": [],
   "source": [
    "def vectorize_text(feature):\n",
    "  text = tf.expand_dims(feature, -1)\n",
    "  return tf.squeeze(vectorize_layer(text))"
   ]
  },
  {
   "cell_type": "code",
   "execution_count": 30,
   "metadata": {},
   "outputs": [],
   "source": [
    "# X Train\n",
    "X_train = X_train_raw.map(vectorize_text, num_parallel_calls=AUTOTUNE)\n",
    "\n",
    "# X Test\n",
    "X_test = X_test_raw.map(vectorize_text, num_parallel_calls=AUTOTUNE)"
   ]
  },
  {
   "cell_type": "code",
   "execution_count": 31,
   "metadata": {},
   "outputs": [
    {
     "name": "stdout",
     "output_type": "stream",
     "text": [
      "tf.Tensor(\n",
      "[    2  1410    53   387 10602  2127   977  7148   231     1   596     1\n",
      "  2943   215  3861  7523 12928 10394 18761     1     1     1     1     1\n",
      "     1     1     1     0     0     0     0     0     0     0     0     0\n",
      "     0     0     0     0     0     0     0     0     0     0     0     0\n",
      "     0     0], shape=(50,), dtype=int64)\n"
     ]
    }
   ],
   "source": [
    "for each in X_train.take(1):\n",
    "    print(each)"
   ]
  },
  {
   "cell_type": "markdown",
   "metadata": {},
   "source": [
    "### 3.5.6 Combine features and labels"
   ]
  },
  {
   "cell_type": "code",
   "execution_count": 32,
   "metadata": {},
   "outputs": [],
   "source": [
    "train_ds = tf.data.Dataset.zip((X_train, y_train_raw))\n",
    "test_ds = tf.data.Dataset.zip((X_test, y_test_raw))"
   ]
  },
  {
   "cell_type": "code",
   "execution_count": 33,
   "metadata": {
    "scrolled": false
   },
   "outputs": [
    {
     "name": "stdout",
     "output_type": "stream",
     "text": [
      "Feature shape: (50,)\n",
      "\n",
      "Label shape: ()\n",
      "\n",
      "Feature(int): tf.Tensor(\n",
      "[    2  1410    53   387 10602  2127   977  7148   231     1   596     1\n",
      "  2943   215  3861  7523 12928 10394 18761     1     1     1     1     1\n",
      "     1     1     1     0     0     0     0     0     0     0     0     0\n",
      "     0     0     0     0     0     0     0     0     0     0     0     0\n",
      "     0     0], shape=(50,), dtype=int64)\n",
      "\n",
      "Label(int): tf.Tensor(0, shape=(), dtype=int64)\n",
      "\n",
      "Feature(text): produto apresentou problema cabo alimentacao energia liga desliga uso [UNK] testar [UNK] devolvelo infelizmente produto apresentou apresentou problema problema cabo cabo alimentacao alimentacao energia [UNK] [UNK] [UNK] [UNK] [UNK] [UNK] [UNK] [UNK]                       \n",
      "\n",
      "Label(text): not 5-star\n"
     ]
    }
   ],
   "source": [
    "id_to_category = [\"not 5-star\", \"5-star\"]\n",
    "\n",
    "for X, y in train_ds.take(1):\n",
    "    print(\"Feature shape:\", X.shape, end=\"\\n\\n\")\n",
    "    print(\"Label shape:\", y.shape, end=\"\\n\\n\")\n",
    "    print(\"Feature(int):\", X, end=\"\\n\\n\")\n",
    "    print(\"Label(int):\", y, end=\"\\n\\n\")\n",
    "    feature_t = \" \".join([vocab[x] for x in tf.squeeze(X)])\n",
    "    label_t = id_to_category[y.numpy()]\n",
    "    print(\"Feature(text):\", feature_t, end=\"\\n\\n\")\n",
    "    print(\"Label(text):\", label_t)"
   ]
  },
  {
   "cell_type": "markdown",
   "metadata": {},
   "source": [
    "## 4. Build the model"
   ]
  },
  {
   "cell_type": "markdown",
   "metadata": {},
   "source": [
    "### 4.1 Set dataset parameters"
   ]
  },
  {
   "cell_type": "code",
   "execution_count": 34,
   "metadata": {},
   "outputs": [],
   "source": [
    "# BUFFER_SIZE = train_ds.cardinality().numpy()\n",
    "\n",
    "train_ds = train_ds.batch(batch_size=BATCH_SIZE, drop_remainder=True)\\\n",
    "                   .cache()\\\n",
    "                   .prefetch(AUTOTUNE)\n",
    "\n",
    "test_ds = test_ds.batch(batch_size=BATCH_SIZE, drop_remainder=True)\\\n",
    "                 .cache()\\\n",
    "                 .prefetch(AUTOTUNE)"
   ]
  },
  {
   "cell_type": "markdown",
   "metadata": {},
   "source": [
    "### 4.2 Set model parameters"
   ]
  },
  {
   "cell_type": "code",
   "execution_count": 35,
   "metadata": {
    "scrolled": false
   },
   "outputs": [
    {
     "name": "stdout",
     "output_type": "stream",
     "text": [
      "Model: \"sequential\"\n",
      "_________________________________________________________________\n",
      " Layer (type)                Output Shape              Param #   \n",
      "=================================================================\n",
      " embedding (Embedding)       (None, None, 64)          1280128   \n",
      "                                                                 \n",
      " dropout (Dropout)           (None, None, 64)          0         \n",
      "                                                                 \n",
      " global_average_pooling1d (G  (None, 64)               0         \n",
      " lobalAveragePooling1D)                                          \n",
      "                                                                 \n",
      " dropout_1 (Dropout)         (None, 64)                0         \n",
      "                                                                 \n",
      " dense (Dense)               (None, 1)                 65        \n",
      "                                                                 \n",
      "=================================================================\n",
      "Total params: 1,280,193\n",
      "Trainable params: 1,280,193\n",
      "Non-trainable params: 0\n",
      "_________________________________________________________________\n"
     ]
    }
   ],
   "source": [
    "model = tf.keras.Sequential([\n",
    "  layers.Embedding(VOCAB_SIZE + 2, EMBEDDING_DIM),\n",
    "  layers.Dropout(0.1),\n",
    "  layers.GlobalAveragePooling1D(),\n",
    "  layers.Dropout(0.1),\n",
    "  layers.Dense(1)])\n",
    "\n",
    "model.summary()"
   ]
  },
  {
   "cell_type": "markdown",
   "metadata": {},
   "source": [
    "### 4.3 Compile the model"
   ]
  },
  {
   "cell_type": "code",
   "execution_count": 36,
   "metadata": {},
   "outputs": [],
   "source": [
    "model.compile(loss=losses.BinaryCrossentropy(from_logits=True),\n",
    "              optimizer=\"adam\",\n",
    "              metrics=tf.metrics.BinaryAccuracy(threshold=0.0))"
   ]
  },
  {
   "cell_type": "markdown",
   "metadata": {},
   "source": [
    "### 4.4 Train the model"
   ]
  },
  {
   "cell_type": "code",
   "execution_count": 37,
   "metadata": {
    "scrolled": false
   },
   "outputs": [
    {
     "name": "stdout",
     "output_type": "stream",
     "text": [
      "Epoch 1/10\n",
      "512/512 [==============================] - 8s 16ms/step - loss: 0.6036 - binary_accuracy: 0.6946\n",
      "Epoch 2/10\n",
      "512/512 [==============================] - 6s 11ms/step - loss: 0.4859 - binary_accuracy: 0.7911\n",
      "Epoch 3/10\n",
      "512/512 [==============================] - 6s 11ms/step - loss: 0.4377 - binary_accuracy: 0.8173\n",
      "Epoch 4/10\n",
      "512/512 [==============================] - 6s 11ms/step - loss: 0.4131 - binary_accuracy: 0.8276\n",
      "Epoch 5/10\n",
      "512/512 [==============================] - 6s 11ms/step - loss: 0.3959 - binary_accuracy: 0.8345\n",
      "Epoch 6/10\n",
      "512/512 [==============================] - 6s 11ms/step - loss: 0.3812 - binary_accuracy: 0.8410\n",
      "Epoch 7/10\n",
      "512/512 [==============================] - 6s 11ms/step - loss: 0.3682 - binary_accuracy: 0.8460\n",
      "Epoch 8/10\n",
      "512/512 [==============================] - 6s 11ms/step - loss: 0.3557 - binary_accuracy: 0.8507\n",
      "Epoch 9/10\n",
      "512/512 [==============================] - 6s 11ms/step - loss: 0.3441 - binary_accuracy: 0.8542\n",
      "Epoch 10/10\n",
      "512/512 [==============================] - 6s 11ms/step - loss: 0.3332 - binary_accuracy: 0.8581\n"
     ]
    }
   ],
   "source": [
    "history = model.fit(\n",
    "    train_ds,\n",
    "    epochs=EPOCHS)"
   ]
  },
  {
   "cell_type": "markdown",
   "metadata": {},
   "source": [
    "### 4.5 Evaluate the model"
   ]
  },
  {
   "cell_type": "code",
   "execution_count": 38,
   "metadata": {
    "scrolled": true
   },
   "outputs": [
    {
     "name": "stdout",
     "output_type": "stream",
     "text": [
      "128/128 [==============================] - 2s 13ms/step - loss: 0.4376 - binary_accuracy: 0.8120\n",
      "Loss:  0.43760156631469727\n",
      "Accuracy:  0.81201171875\n"
     ]
    }
   ],
   "source": [
    "loss, accuracy = model.evaluate(test_ds)\n",
    "print(\"Loss: \", loss)\n",
    "print(\"Accuracy: \", accuracy)"
   ]
  },
  {
   "cell_type": "markdown",
   "metadata": {},
   "source": [
    "### 4.6 Test the model"
   ]
  },
  {
   "cell_type": "code",
   "execution_count": 39,
   "metadata": {},
   "outputs": [
    {
     "name": "stdout",
     "output_type": "stream",
     "text": [
      "128/128 [==============================] - 0s 1ms/step\n"
     ]
    },
    {
     "data": {
      "text/plain": [
       "<tf.Tensor: shape=(8192,), dtype=int64, numpy=array([1, 1, 1, ..., 1, 0, 1])>"
      ]
     },
     "execution_count": 39,
     "metadata": {},
     "output_type": "execute_result"
    }
   ],
   "source": [
    "y_pred = model.predict(test_ds)\n",
    "y_pred = [1 if pred > 0 else 0 for pred in y_pred]\n",
    "y_pred = tf.convert_to_tensor(y_pred, dtype=\"int64\")\n",
    "y_pred"
   ]
  },
  {
   "cell_type": "code",
   "execution_count": 40,
   "metadata": {
    "scrolled": true
   },
   "outputs": [
    {
     "data": {
      "text/plain": [
       "<tf.Tensor: shape=(8192,), dtype=int64, numpy=array([0, 1, 1, ..., 1, 1, 1])>"
      ]
     },
     "execution_count": 40,
     "metadata": {},
     "output_type": "execute_result"
    }
   ],
   "source": [
    "y_true = tf.concat(list(test_ds.map(lambda X,y: y)), axis=0)\n",
    "y_true"
   ]
  },
  {
   "cell_type": "markdown",
   "metadata": {},
   "source": [
    "### 4.7 Show models' metrics"
   ]
  },
  {
   "cell_type": "markdown",
   "metadata": {},
   "source": [
    "__CONFUSION MATRIX__"
   ]
  },
  {
   "cell_type": "code",
   "execution_count": 41,
   "metadata": {
    "scrolled": false
   },
   "outputs": [
    {
     "data": {
      "image/png": "[encoded data removed]",
      "text/plain": [
       "<Figure size 1000x800 with 2 Axes>"
      ]
     },
     "metadata": {},
     "output_type": "display_data"
    }
   ],
   "source": [
    "confusion_mtx = tf.math.confusion_matrix(y_true, y_pred)\n",
    "plt.figure(figsize=(10, 8))\n",
    "sns.heatmap(confusion_mtx,\n",
    "            annot=True, fmt='g')\n",
    "plt.xlabel('Prediction')\n",
    "plt.ylabel('Label')\n",
    "plt.show()"
   ]
  },
  {
   "cell_type": "markdown",
   "metadata": {},
   "source": [
    "__PRECISION__"
   ]
  },
  {
   "cell_type": "code",
   "execution_count": 42,
   "metadata": {},
   "outputs": [
    {
     "data": {
      "text/plain": [
       "0.7792519"
      ]
     },
     "execution_count": 42,
     "metadata": {},
     "output_type": "execute_result"
    }
   ],
   "source": [
    "m = tf.keras.metrics.Precision(thresholds=0)\n",
    "m.update_state(y_true, y_pred)\n",
    "m.result().numpy()"
   ]
  },
  {
   "cell_type": "markdown",
   "metadata": {},
   "source": [
    "__RECALL__"
   ]
  },
  {
   "cell_type": "code",
   "execution_count": 43,
   "metadata": {},
   "outputs": [
    {
     "data": {
      "text/plain": [
       "0.8722006"
      ]
     },
     "execution_count": 43,
     "metadata": {},
     "output_type": "execute_result"
    }
   ],
   "source": [
    "m = tf.keras.metrics.Recall(thresholds=0)\n",
    "m.update_state(y_true, y_pred)\n",
    "m.result().numpy()"
   ]
  },
  {
   "cell_type": "code",
   "execution_count": null,
   "metadata": {},
   "outputs": [],
   "source": []
  }
 ],
 "metadata": {
  "kernelspec": {
   "display_name": "Python 3",
   "language": "python",
   "name": "python3"
  },
  "language_info": {
   "codemirror_mode": {
    "name": "ipython",
    "version": 3
   },
   "file_extension": ".py",
   "mimetype": "text/x-python",
   "name": "python",
   "nbconvert_exporter": "python",
   "pygments_lexer": "ipython3",
   "version": "3.8.10"
  },
  "vscode": {
   "interpreter": {
    "hash": "917d4d2b08f7670cc3ed06ac2060fb0be359b2f0bf146c0cdea02c4c7c13670f"
   }
  }
 },
 "nbformat": 4,
 "nbformat_minor": 2
}
